{
 "cells": [
  {
   "cell_type": "code",
   "execution_count": 1,
   "id": "82f4a896",
   "metadata": {},
   "outputs": [
    {
     "name": "stdout",
     "output_type": "stream",
     "text": [
      "28\n",
      "28\n"
     ]
    }
   ],
   "source": [
    "import sys\n",
    "\n",
    "print(sys.getsizeof(1))  # 28 bytes\n",
    "print(sys.getsizeof(100))  # 28 bytes"
   ]
  },
  {
   "cell_type": "code",
   "execution_count": 8,
   "id": "47255095",
   "metadata": {},
   "outputs": [
    {
     "name": "stdout",
     "output_type": "stream",
     "text": [
      "<class 'int'> 28\n",
      "<class 'int'> 28\n",
      "<class 'int'> 28\n",
      "<class 'int'> 28\n"
     ]
    }
   ],
   "source": [
    "import sys\n",
    "\n",
    "# 방법 1: 문자열 변환 사용\n",
    "print(str(type(1)) + \" \" + str(sys.getsizeof(1)))\n",
    "\n",
    "# 방법 2: f-string 사용\n",
    "print(f\"{type(1)} {sys.getsizeof(1)}\")\n",
    "\n",
    "# 방법 3: format 메서드 사용\n",
    "print(\"{} {}\".format(type(1), sys.getsizeof(1)))\n",
    "\n",
    "# 방법 4: % 연산자 사용\n",
    "print(\"%s %d\" % (type(1), sys.getsizeof(1)))"
   ]
  },
  {
   "cell_type": "code",
   "execution_count": 9,
   "id": "f0f20534",
   "metadata": {},
   "outputs": [
    {
     "name": "stdout",
     "output_type": "stream",
     "text": [
      "<class 'int'> 28\n",
      "<class 'float'> 24\n",
      "<class 'str'> 46\n",
      "<class 'list'> 88\n",
      "<class 'tuple'> 64\n",
      "<class 'set'> 216\n",
      "<class 'dict'> 184\n",
      "<class 'NoneType'> 16\n",
      "<class 'bool'> 28\n",
      "<class 'bool'> 28\n",
      "<class 'bytes'> 38\n",
      "<class 'range'> 48\n",
      "<class 'bytearray'> 67\n",
      "<class 'memoryview'> 184\n",
      "<class 'complex'> 32\n",
      "<class 'frozenset'> 216\n",
      "<class 'slice'> 56\n",
      "<class 'dict'> 184\n",
      "<class 'set'> 216\n",
      "<class 'list'> 56\n",
      "<class 'tuple'> 40\n",
      "<class 'dict'> 64\n"
     ]
    }
   ],
   "source": [
    "import sys\n",
    "\n",
    "print(f\"{type(1)} {sys.getsizeof(1)}\")\n",
    "print(f\"{type(1.1)} {sys.getsizeof(1.1)}\")\n",
    "print(f\"{type('hello')} {sys.getsizeof('hello')}\")\n",
    "print(f\"{type([1, 2, 3])} {sys.getsizeof([1, 2, 3])}\")\n",
    "print(f\"{type((1, 2, 3))} {sys.getsizeof((1, 2, 3))}\")\n",
    "print(f\"{type({1, 2, 3})} {sys.getsizeof({1, 2, 3})}\")\n",
    "print(f\"{type({'a': 1, 'b': 2})} {sys.getsizeof({'a': 1, 'b': 2})}\")\n",
    "print(f\"{type(None)} {sys.getsizeof(None)}\")    \n",
    "print(f\"{type(True)} {sys.getsizeof(True)}\")\n",
    "print(f\"{type(False)} {sys.getsizeof(False)}\")  \n",
    "print(f\"{type(b'bytes')} {sys.getsizeof(b'bytes')}\")\n",
    "print(f\"{type(range(10))} {sys.getsizeof(range(10))}\")\n",
    "print(f\"{type(bytearray(10))} {sys.getsizeof(bytearray(10))}\")\n",
    "print(f\"{type(memoryview(bytearray(10)))} {sys.getsizeof(memoryview(bytearray(10)))}\")\n",
    "print(f\"{type(complex(1, 2))} {sys.getsizeof(complex(1, 2))}\")\n",
    "print(f\"{type(frozenset([1, 2, 3]))} {sys.getsizeof(frozenset([1, 2, 3]))}\")\n",
    "print(f\"{type(slice(1, 10))} {sys.getsizeof(slice(1, 10))}\")\n",
    "print(f\"{type(dict.fromkeys(['a', 'b', 'c']))} {sys.getsizeof(dict.fromkeys(['a', 'b', 'c']))}\")\n",
    "print(f\"{type(set())} {sys.getsizeof(set())}\")\n",
    "print(f\"{type(list())} {sys.getsizeof(list())}\")\n",
    "print(f\"{type(tuple())} {sys.getsizeof(tuple())}\")\n",
    "print(f\"{type(dict())} {sys.getsizeof(dict())}\")"
   ]
  },
  {
   "cell_type": "code",
   "execution_count": null,
   "id": "cbbbe642",
   "metadata": {},
   "outputs": [],
   "source": []
  }
 ],
 "metadata": {
  "kernelspec": {
   "display_name": "Python 3",
   "language": "python",
   "name": "python3"
  },
  "language_info": {
   "codemirror_mode": {
    "name": "ipython",
    "version": 3
   },
   "file_extension": ".py",
   "mimetype": "text/x-python",
   "name": "python",
   "nbconvert_exporter": "python",
   "pygments_lexer": "ipython3",
   "version": "3.13.5"
  }
 },
 "nbformat": 4,
 "nbformat_minor": 5
}
