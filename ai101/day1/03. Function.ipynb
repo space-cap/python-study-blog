{
 "cells": [
  {
   "cell_type": "markdown",
   "metadata": {
    "id": "asH4-Ll7yF0P"
   },
   "source": [
    "## Function이란?\n",
    "\n",
    "**수학적인 의미의 함수와 개념은 비슷하지만 역할이 다르다.**\n",
    "\n",
    "\n",
    "- input이 들어와서 output이 정해진 규칙에 따라 나온다는 개념은 같지만, 프로그램에서의 하나의 함수는 **하나의 기능**을 나타낸다.\n",
    "\n",
    "\n",
    "- 정확하게 함수는 특정 기능을 구현한 **코드 묶음**이다.\n",
    "\n",
    "\n",
    "- def 함수이름(param1, param2, ... ):\n",
    "        <statement1>\n",
    "        <statement2>\n",
    "      return\n",
    "\n",
    "\n",
    "- 함수를 쓰는 이유는 **재사용성** 때문이다."
   ]
  },
  {
   "cell_type": "markdown",
   "metadata": {
    "id": "sh1ZNG2GyF0P"
   },
   "source": [
    "> 함수를 사용하는 가장 중요한 이유는 재사용성 때문이다. Reusability라고 하며, ***똑같은 구조의 코드가 반복되는 것을 피하기 위해 사용***된다. 똑같은 구조의 코드는 보통 한 가지의 기능 단위로 묶이게 되며, 이 기능 단위를 코드로 묶어서 함수로 만든다."
   ]
  },
  {
   "cell_type": "markdown",
   "metadata": {
    "id": "8fPSbSXzyF0Q"
   },
   "source": [
    "## Python Function Definition"
   ]
  },
  {
   "cell_type": "code",
   "execution_count": null,
   "metadata": {
    "id": "tB-3gkTGyF0Q"
   },
   "outputs": [
    {
     "data": {
      "text/plain": [
       "[1, 2, 3, 4]"
      ]
     },
     "execution_count": 14,
     "metadata": {},
     "output_type": "execute_result"
    }
   ],
   "source": [
    "# user-defined function\n",
    "def foo(a, b, c):\n",
    "    \"\"\"\n",
    "    TODO: 함수 구현 예정\n",
    "    \"\"\"\n",
    "    return a + b + c  # 예시로 세 숫자를 더하는 함수\n",
    "\n",
    "# foo(1, 2, 3)  # function call\n",
    "# foo('1', 2, 3)\n",
    "\n",
    "def bar(a: int, b: int) -> int: # type hinting\n",
    "    \"\"\"\n",
    "    docstring: 제발 a, b 는 정수형이어야 합니다.\n",
    "    return: a와 b의 합을 반환합니다.\n",
    "    \"\"\"\n",
    "    return a + b\n",
    "\n",
    "\n",
    "bar(1, 2)\n",
    "bar('1', '2')\n",
    "bar([1, 2], [3, 4])  # type hinting이 있지만, 실제로는 타입 체크가 되지 않습니다. Python은 동적 타이핑 언어이기 때문입니다.\n",
    "\n"
   ]
  },
  {
   "cell_type": "markdown",
   "metadata": {
    "id": "gY3l8oWLyF0R"
   },
   "source": [
    "- 정확한 용어 구분은 중요하지만, 보통은 parameter라고 총칭한다. 크게 중요하진 않다."
   ]
  },
  {
   "cell_type": "markdown",
   "metadata": {
    "id": "8yTnxs3ByF0R"
   },
   "source": [
    "#### 기억해야 할 것은, input --- (Function) ----> output 의 구조이며, 이 때 어떤 input parameter가 들어가서, 어떤 output parameter가 나오는지 주목해야한다."
   ]
  },
  {
   "cell_type": "markdown",
   "metadata": {
    "id": "cMW-5h7OyF0R"
   },
   "source": [
    "#### 연습삼아, 나눗셈 연산을 함수로 만들어보자."
   ]
  },
  {
   "cell_type": "code",
   "execution_count": null,
   "metadata": {
    "id": "BGO2MfZbyF0S"
   },
   "outputs": [],
   "source": [
    "# def"
   ]
  },
  {
   "cell_type": "markdown",
   "metadata": {
    "id": "e1-9IBVW4k65"
   },
   "source": [
    "### 함수 정의의 다양한 형태를 연습해보자!"
   ]
  },
  {
   "cell_type": "markdown",
   "metadata": {
    "id": "Qz8sWqk94su9"
   },
   "source": [
    "#### 1. 가장 흔하게 사용되는 경우 -> 함수 parameter와 return이 모두 존재하는 경우."
   ]
  },
  {
   "cell_type": "code",
   "execution_count": 14,
   "metadata": {
    "id": "lD9J7z5H4g9C"
   },
   "outputs": [],
   "source": [
    "def x(a, b):\n",
    "    return a + b"
   ]
  },
  {
   "cell_type": "markdown",
   "metadata": {
    "id": "m9OcUVVw41z_"
   },
   "source": [
    "#### 2. 함수 parameter는 없고 return이 존재하는 경우."
   ]
  },
  {
   "cell_type": "code",
   "execution_count": 15,
   "metadata": {
    "id": "iXFA9fXX465J"
   },
   "outputs": [],
   "source": [
    "def x():\n",
    "    return \"Hi\""
   ]
  },
  {
   "cell_type": "markdown",
   "metadata": {
    "id": "6qJLyvYx46gF"
   },
   "source": [
    "#### 3. 함수 parameter는 있는데 return이 없는 경우."
   ]
  },
  {
   "cell_type": "code",
   "execution_count": 16,
   "metadata": {
    "id": "64MV2yDF4-jA"
   },
   "outputs": [],
   "source": [
    "def x(a):\n",
    "    a = a + 1"
   ]
  },
  {
   "cell_type": "markdown",
   "metadata": {
    "id": "aaePVAX_4_Ku"
   },
   "source": [
    "#### 4. 함수 parameter도 없고 return도 없는 경우."
   ]
  },
  {
   "cell_type": "code",
   "execution_count": null,
   "metadata": {
    "id": "vyihU5Zw5CJL"
   },
   "outputs": [],
   "source": [
    "def x():\n",
    "    print(\"Hello World\")\n",
    "    \n",
    "x()"
   ]
  },
  {
   "cell_type": "markdown",
   "metadata": {
    "id": "lqCawSAlyF0S"
   },
   "source": [
    "#### Q. 만약에 함수의 입력 parameter의 개수를 모를땐 어떻게 해야할까?"
   ]
  },
  {
   "cell_type": "code",
   "execution_count": 15,
   "metadata": {
    "id": "yFsI7D5fyF0S"
   },
   "outputs": [
    {
     "ename": "UnboundLocalError",
     "evalue": "cannot access local variable 'total' where it is not associated with a value",
     "output_type": "error",
     "traceback": [
      "\u001b[31m---------------------------------------------------------------------------\u001b[39m",
      "\u001b[31mUnboundLocalError\u001b[39m                         Traceback (most recent call last)",
      "\u001b[36mCell\u001b[39m\u001b[36m \u001b[39m\u001b[32mIn[15]\u001b[39m\u001b[32m, line 11\u001b[39m\n\u001b[32m      7\u001b[39m         total += num\n\u001b[32m      9\u001b[39m     \u001b[38;5;28;01mreturn\u001b[39;00m total\n\u001b[32m---> \u001b[39m\u001b[32m11\u001b[39m \u001b[43madd_many\u001b[49m\u001b[43m(\u001b[49m\u001b[32;43m1\u001b[39;49m\u001b[43m,\u001b[49m\u001b[43m \u001b[49m\u001b[32;43m2\u001b[39;49m\u001b[43m,\u001b[49m\u001b[43m \u001b[49m\u001b[32;43m3\u001b[39;49m\u001b[43m)\u001b[49m    \u001b[38;5;66;03m# 6\u001b[39;00m\n\u001b[32m     12\u001b[39m add_many(\u001b[32m1\u001b[39m, \u001b[32m2\u001b[39m, \u001b[32m3\u001b[39m, \u001b[32m4\u001b[39m, \u001b[32m5\u001b[39m, \u001b[32m6\u001b[39m, \u001b[32m7\u001b[39m, \u001b[32m8\u001b[39m, \u001b[32m9\u001b[39m, \u001b[32m10\u001b[39m)  \u001b[38;5;66;03m# 55\u001b[39;00m\n",
      "\u001b[36mCell\u001b[39m\u001b[36m \u001b[39m\u001b[32mIn[15]\u001b[39m\u001b[32m, line 7\u001b[39m, in \u001b[36madd_many\u001b[39m\u001b[34m(*args)\u001b[39m\n\u001b[32m      2\u001b[39m \u001b[38;5;28;01mdef\u001b[39;00m\u001b[38;5;250m \u001b[39m\u001b[34madd_many\u001b[39m(*args):\n\u001b[32m      3\u001b[39m     \u001b[38;5;66;03m# 파라미터로 입력받은 모든 숫자를 더해서 return 해주는 함수.\u001b[39;00m\n\u001b[32m      4\u001b[39m     \u001b[38;5;66;03m## TO-DO : args로 받은 tuple의 모든 원소를 더해서 total이라는 변수로 return하는 코드를 작성해보세요.\u001b[39;00m\n\u001b[32m      5\u001b[39m     \u001b[38;5;66;03m# total = 0\u001b[39;00m\n\u001b[32m      6\u001b[39m     \u001b[38;5;28;01mfor\u001b[39;00m num \u001b[38;5;129;01min\u001b[39;00m args:\n\u001b[32m----> \u001b[39m\u001b[32m7\u001b[39m         \u001b[43mtotal\u001b[49m += num\n\u001b[32m      9\u001b[39m     \u001b[38;5;28;01mreturn\u001b[39;00m total\n",
      "\u001b[31mUnboundLocalError\u001b[39m: cannot access local variable 'total' where it is not associated with a value"
     ]
    }
   ],
   "source": [
    "# *(asterisk)를 앞에 붙이는 것으로 여러개의 parameter를 받아서 tuple로 변환하여 준다.   \n",
    "def add_many(*args):\n",
    "    # 파라미터로 입력받은 모든 숫자를 더해서 return 해주는 함수.\n",
    "    ## TO-DO : args로 받은 tuple의 모든 원소를 더해서 total이라는 변수로 return하는 코드를 작성해보세요.\n",
    "    # total = 0\n",
    "    for num in args:\n",
    "        total += num\n",
    "\n",
    "    return total\n",
    "\n",
    "add_many(1, 2, 3)    # 6\n",
    "add_many(1, 2, 3, 4, 5, 6, 7, 8, 9, 10)  # 55"
   ]
  },
  {
   "cell_type": "markdown",
   "metadata": {
    "id": "h7Z72wjwyF0T"
   },
   "source": [
    "#### Q. 코드를 작성할 때, 언제 이 부분은 함수로 구현해야겠다 라고 판단할 수 있을까?\n",
    "\n",
    "***A. 똑같은 코드가 2번 이상 반복될 때.***"
   ]
  },
  {
   "cell_type": "markdown",
   "metadata": {
    "id": "_IreDkFq8Qmm"
   },
   "source": [
    "### 파라미터에 대해 조금 더 알아봅시다!\n",
    "\n",
    "- 함수에서 사용되는 변수들에게는 효력 범위와 수명이 있습니다."
   ]
  },
  {
   "cell_type": "markdown",
   "metadata": {
    "id": "w9x7d_Ka8T13"
   },
   "source": [
    "Q. 만약에 함수의 파라미터 변수 이름과, 함수를 호출하는 argument의 이름이 같은 경우에 어떻게 될까?\n",
    "\n",
    "\n",
    "- 파이썬에서는 함수의 파라미터로, int/float/str/tuple(immutable data type)이 넘어가는 경우에는 내부에서 해당 변수를 수정해도 바뀌지 않습니다.\n",
    "\n",
    "- 파이썬에서는 함수의 파라미터로, list/dict/set(mutable data type)이 넘어가는 경우에는 내부에서 해당 변수가 바뀝니다."
   ]
  },
  {
   "cell_type": "code",
   "execution_count": null,
   "metadata": {
    "id": "UwgEw1Bd8ljQ"
   },
   "outputs": [
    {
     "name": "stdout",
     "output_type": "stream",
     "text": [
      "1. Kim\n",
      "5. Kim\n",
      "6. Kim\n",
      "7. Kim\n"
     ]
    }
   ],
   "source": [
    "# parameter passing: 넘어가는 object가 mutable인지 immutable인지에 따라 다르게 동작합니다.\n",
    "# immutable object: int, float, str, tuple\n",
    "# mutable object: list, dict, set\n",
    "# Numpy array는 mutable object입니다.\n",
    "# Pandas Series, DataFrame도 mutable object입니다.\n",
    "# TensorFlow, PyTorch의 Tensor도 mutable object입니다.\n",
    "# immutable object는 값이 변경되지 않습니다. (pass by value)\n",
    "# mutable object는 값이 변경될 수 있습니다. (pass by reference)\n",
    "\n",
    "\n",
    "name = \"Kim\"\n",
    "print(f\"1. {name}\")\n",
    "\n",
    "# def change_name(name): \n",
    "#     print(f\"2. {name}\")\n",
    "#     name = 'Lee'\n",
    "#     print(f\"3. {name}\")\n",
    "#     return name\n",
    "#     print(f\"4. {name}\")\n",
    "\n",
    "def change_name():\n",
    "    global name  # 전역 변수를 사용합니다.\n",
    "    print(f\"2. {name}\")\n",
    "    name = 'Lee'  # 전역 변수 name의 값을 변경합니다.\n",
    "    print(f\"3. {name}\")\n",
    "    return name\n",
    "    print(f\"4. {name}\")\n",
    "\n",
    "\n",
    "\n",
    "\n",
    "print(f\"5. {name}\")\n",
    "#change_name(name)\n",
    "print(f\"6. {name}\")\n",
    "#change_name(name)\n",
    "print(f\"7. {name}\")"
   ]
  },
  {
   "cell_type": "code",
   "execution_count": null,
   "metadata": {},
   "outputs": [],
   "source": []
  },
  {
   "cell_type": "code",
   "execution_count": 19,
   "metadata": {},
   "outputs": [
    {
     "name": "stdout",
     "output_type": "stream",
     "text": [
      "1. [1, 2, 3]\n",
      "2. [1, 2, 3]\n",
      "3. [4, 2]\n",
      "4. [4, 2]\n"
     ]
    }
   ],
   "source": [
    "def change_list(L):\n",
    "    print(f\"2. {L}\")\n",
    "    L[0] = 4         \n",
    "    L.pop()          \n",
    "    print(f\"3. {L}\")\n",
    "\n",
    "L = [1, 2, 3]\n",
    "print(f\"1. {L}\")\n",
    "change_list(L)\n",
    "print(f\"4. {L}\")"
   ]
  },
  {
   "cell_type": "markdown",
   "metadata": {
    "id": "3Zv4U8eX6TcF"
   },
   "source": [
    "### Lambda 함수를 사용해보자!\n",
    "> Lambda Expression\n",
    "\n",
    "\n",
    "- 굉장히 간단한 함수가 있는 경우, 한 줄짜리 함수로 간편하게 사용할 수 있다.\n",
    "\n",
    "- 이런 함수를 Lambda 함수라고 하며, lambda 함수와 반복문을 통해 함수의 정의없이 다양한 프로그래밍이 가능하다."
   ]
  },
  {
   "cell_type": "code",
   "execution_count": null,
   "metadata": {
    "id": "FmRItf0AyF0T"
   },
   "outputs": [],
   "source": [
    "def add(a, b):\n",
    "    return a+b\n",
    "\n",
    "# lambda function, lambda expression, inline function --> function을 parameter passing해야하는 경우에 많이 사용함.\n",
    "# lambda 함수로 바꾸면?\n",
    "\n",
    "print(add(3, 5))"
   ]
  },
  {
   "cell_type": "code",
   "execution_count": null,
   "metadata": {},
   "outputs": [],
   "source": [
    "# List comprehension과 함께 사용\n"
   ]
  },
  {
   "cell_type": "code",
   "execution_count": 21,
   "metadata": {},
   "outputs": [
    {
     "name": "stdout",
     "output_type": "stream",
     "text": [
      "30\n"
     ]
    }
   ],
   "source": [
    "def add(x, y):\n",
    "    return x + y\n",
    "\n",
    "\n",
    "result = add(10, 20)  # 30\n",
    "print(result)"
   ]
  },
  {
   "cell_type": "code",
   "execution_count": 23,
   "metadata": {},
   "outputs": [
    {
     "name": "stdout",
     "output_type": "stream",
     "text": [
      "30\n"
     ]
    }
   ],
   "source": [
    "add = lambda x, y: x + y\n",
    "result = add(10, 20)  # 30\n",
    "\n",
    "# 또는 즉석에서 사용\n",
    "result = (lambda x, y: x + y)(10, 20)  # 30\n",
    "print(result)"
   ]
  },
  {
   "cell_type": "code",
   "execution_count": 24,
   "metadata": {},
   "outputs": [
    {
     "name": "stdout",
     "output_type": "stream",
     "text": [
      "[1, 4, 9, 16, 25]\n",
      "[2, 4, 6, 8, 10]\n"
     ]
    }
   ],
   "source": [
    "# 리스트의 각 요소를 제곱\n",
    "numbers = [1, 2, 3, 4, 5]\n",
    "squared = list(map(lambda x: x**2, numbers))\n",
    "print(squared)  # [1, 4, 9, 16, 25]\n",
    "\n",
    "# 각 요소에 2를 곱하기\n",
    "doubled = list(map(lambda x: x * 2, numbers))\n",
    "print(doubled)  # [2, 4, 6, 8, 10]"
   ]
  },
  {
   "cell_type": "code",
   "execution_count": 25,
   "metadata": {},
   "outputs": [
    {
     "name": "stdout",
     "output_type": "stream",
     "text": [
      "[1, 3, 5, 7, 9]\n",
      "[1, 2, 3, 4]\n"
     ]
    }
   ],
   "source": [
    "numbers = [1, 2, 3, 4, 5, 6, 7, 8, 9, 10]\n",
    "\n",
    "# 홀수만 필터링\n",
    "odds = list(filter(lambda x: x % 2 == 1, numbers))\n",
    "print(odds)  # [1, 3, 5, 7, 9]\n",
    "\n",
    "# 5보다 작은 수만 필터링\n",
    "small_numbers = list(filter(lambda x: x < 5, numbers))\n",
    "print(small_numbers)  # [1, 2, 3, 4]"
   ]
  },
  {
   "cell_type": "code",
   "execution_count": 26,
   "metadata": {},
   "outputs": [
    {
     "name": "stdout",
     "output_type": "stream",
     "text": [
      "['date', 'apple', 'banana', 'cherry']\n",
      "[('Charlie', 78), ('Alice', 85), ('Bob', 90)]\n"
     ]
    }
   ],
   "source": [
    "# 문자열 길이 순으로 정렬\n",
    "words = [\"apple\", \"banana\", \"cherry\", \"date\"]\n",
    "sorted_words = sorted(words, key=lambda x: len(x))\n",
    "print(sorted_words)  # ['date', 'apple', 'cherry', 'banana']\n",
    "\n",
    "# 튜플의 두 번째 요소로 정렬\n",
    "students = [(\"Alice\", 85), (\"Bob\", 90), (\"Charlie\", 78)]\n",
    "sorted_students = sorted(students, key=lambda x: x[1])\n",
    "print(sorted_students)  # [('Charlie', 78), ('Alice', 85), ('Bob', 90)]"
   ]
  },
  {
   "cell_type": "code",
   "execution_count": 27,
   "metadata": {},
   "outputs": [
    {
     "name": "stdout",
     "output_type": "stream",
     "text": [
      "15\n",
      "120\n"
     ]
    }
   ],
   "source": [
    "from functools import reduce\n",
    "\n",
    "numbers = [1, 2, 3, 4, 5]\n",
    "\n",
    "# 모든 요소의 합\n",
    "total = reduce(lambda x, y: x + y, numbers)\n",
    "print(total)  # 15\n",
    "\n",
    "# 모든 요소의 곱\n",
    "product = reduce(lambda x, y: x * y, numbers)\n",
    "print(product)  # 120"
   ]
  },
  {
   "cell_type": "code",
   "execution_count": 28,
   "metadata": {},
   "outputs": [
    {
     "name": "stdout",
     "output_type": "stream",
     "text": [
      "[{'name': 'Charlie', 'age': 20}, {'name': 'Alice', 'age': 25}, {'name': 'Bob', 'age': 30}]\n"
     ]
    }
   ],
   "source": [
    "data = [\n",
    "    {\"name\": \"Alice\", \"age\": 25},\n",
    "    {\"name\": \"Bob\", \"age\": 30},\n",
    "    {\"name\": \"Charlie\", \"age\": 20},\n",
    "]\n",
    "sorted_by_age = sorted(data, key=lambda x: x[\"age\"])\n",
    "print(sorted_by_age)\n",
    "# [{'name': 'Charlie', 'age': 20}, {'name': 'Alice', 'age': 25}, {'name': 'Bob', 'age': 30}]"
   ]
  },
  {
   "cell_type": "code",
   "execution_count": 29,
   "metadata": {},
   "outputs": [
    {
     "name": "stdout",
     "output_type": "stream",
     "text": [
      "5\n",
      "3\n"
     ]
    }
   ],
   "source": [
    "# 절댓값 계산\n",
    "abs_func = lambda x: x if x >= 0 else -x\n",
    "print(abs_func(-5))  # 5\n",
    "print(abs_func(3))  # 3"
   ]
  },
  {
   "cell_type": "code",
   "execution_count": null,
   "metadata": {},
   "outputs": [],
   "source": []
  }
 ],
 "metadata": {
  "colab": {
   "collapsed_sections": [],
   "name": "Chapter.01 파이썬 프로그래밍-10. 함수 (실습).ipynb",
   "provenance": []
  },
  "kernelspec": {
   "display_name": "Python 3",
   "language": "python",
   "name": "python3"
  },
  "language_info": {
   "codemirror_mode": {
    "name": "ipython",
    "version": 3
   },
   "file_extension": ".py",
   "mimetype": "text/x-python",
   "name": "python",
   "nbconvert_exporter": "python",
   "pygments_lexer": "ipython3",
   "version": "3.13.5"
  }
 },
 "nbformat": 4,
 "nbformat_minor": 1
}
