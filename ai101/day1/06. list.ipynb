{
 "cells": [
  {
   "cell_type": "code",
   "execution_count": 2,
   "id": "f12bd7eb",
   "metadata": {},
   "outputs": [
    {
     "name": "stdout",
     "output_type": "stream",
     "text": [
      "True\n",
      "False\n",
      "True\n"
     ]
    }
   ],
   "source": [
    "# 불변 객체 예시\n",
    "a = 10\n",
    "b = 10\n",
    "print(id(a) == id(b))  # True - 같은 객체를 참조\n",
    "\n",
    "# 가변 객체 예시\n",
    "list1 = [1, 2, 3]\n",
    "list2 = [1, 2, 3]\n",
    "print(id(list1) == id(list2))  # False - 다른 객체를 참조\n",
    "\n",
    "\n",
    "list3 = list1\n",
    "print(id(list1) == id(list3))  # True - 같은 객체를 참조\n"
   ]
  },
  {
   "cell_type": "code",
   "execution_count": null,
   "id": "51dded92",
   "metadata": {},
   "outputs": [],
   "source": []
  }
 ],
 "metadata": {
  "kernelspec": {
   "display_name": "Python 3",
   "language": "python",
   "name": "python3"
  },
  "language_info": {
   "codemirror_mode": {
    "name": "ipython",
    "version": 3
   },
   "file_extension": ".py",
   "mimetype": "text/x-python",
   "name": "python",
   "nbconvert_exporter": "python",
   "pygments_lexer": "ipython3",
   "version": "3.13.5"
  }
 },
 "nbformat": 4,
 "nbformat_minor": 5
}
