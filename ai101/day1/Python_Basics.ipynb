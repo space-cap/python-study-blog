{
 "cells": [
  {
   "cell_type": "markdown",
   "metadata": {},
   "source": [
    "# 파이썬 기초 마스터 🐍\n",
    "\n",
    "이 노트북은 파이썬의 가장 기본적인 개념들을 설명하고 예제 코드를 포함합니다.\n",
    "\n",
    "**학습 내용:**\n",
    "1. 자료형 (Data Types)\n",
    "2. 제어문 (Control Flow)\n",
    "3. 입출력 (Input/Output)\n",
    "4. 클래스와 함수 (Classes and Functions)\n",
    "5. 별 찍기 예제\n",
    "6. 파이썬 기본 시험 예상 문제"
   ]
  },
  {
   "cell_type": "markdown",
   "metadata": {},
   "source": [
    "## 1. 자료형 (Data Types)\n",
    "\n",
    "자료형은 변수가 가질 수 있는 데이터의 종류를 의미합니다. 파이썬의 주요 자료형은 다음과 같습니다."
   ]
  },
  {
   "cell_type": "markdown",
   "metadata": {},
   "source": [
    "### 숫자형 (Numeric Types) & 문자열 (String)\n",
    "* **`int`**: 정수 (예: `10`, `-5`)\n",
    "* **`float`**: 실수 (소수점이 있는 숫자, 예: `3.14`, `-0.5`)\n",
    "* **`str`**: 문자열 (따옴표(`'`, `\"`)로 묶인 텍스트)"
   ]
  },
  {
   "cell_type": "code",
   "execution_count": null,
   "metadata": {},
   "outputs": [],
   "source": [
    "a = 10         # 정수형 (int)\n",
    "b = 3.14       # 실수형 (float)\n",
    "c = \"Hello, Python!\" # 문자열 (str)\n",
    "\n",
    "print(f\"a의 값: {a}, 타입: {type(a)}\")\n",
    "print(f\"b의 값: {b}, 타입: {type(b)}\")\n",
    "print(f\"c의 값: {c}, 타입: {type(c)}\")"
   ]
  },
  {
   "cell_type": "markdown",
   "metadata": {},
   "source": [
    "### 리스트 (List) & 튜플 (Tuple)\n",
    "\n",
    "* **`list`**: 순서가 있고, 수정 가능한 데이터의 모음. 대괄호 `[]`로 만듭니다.\n",
    "* **`tuple`**: 순서가 있지만, 수정 불가능한 데이터의 모음. 소괄호 `()`로 만듭니다."
   ]
  },
  {
   "cell_type": "code",
   "execution_count": null,
   "metadata": {},
   "outputs": [],
   "source": [
    "my_list = [1, 2, \"apple\", \"banana\"]\n",
    "my_list[0] = 100 # 리스트는 값 변경 가능\n",
    "print(f\"리스트: {my_list}\")\n",
    "\n",
    "my_tuple = (1, 2, \"apple\", \"banana\")\n",
    "# my_tuple[0] = 100 # 튜플은 값 변경 시 TypeError 발생\n",
    "print(f\"튜플: {my_tuple}\")"
   ]
  },
  {
   "cell_type": "markdown",
   "metadata": {},
   "source": [
    "### 딕셔너리 (Dictionary) & 세트 (Set)\n",
    "\n",
    "* **`dict`**: Key-Value 쌍으로 이루어진 데이터 모음. 순서가 없고, Key를 통해 값을 찾습니다. 중괄호 `{}`로 만듭니다.\n",
    "* **`set`**: 중복을 허용하지 않는 데이터의 모음. 순서가 없습니다. `{}`로 만듭니다."
   ]
  },
  {
   "cell_type": "code",
   "execution_count": null,
   "metadata": {},
   "outputs": [],
   "source": [
    "my_dict = {\"name\": \"홍길동\", \"age\": 30}\n",
    "print(f\"딕셔너리: {my_dict}\")\n",
    "print(f\"이름: {my_dict['name']}\")\n",
    "\n",
    "my_set = {1, 2, 3, 3, 2, 1}\n",
    "print(f\"세트 (중복 제거됨): {my_set}\")"
   ]
  },
  {
   "cell_type": "markdown",
   "metadata": {},
   "source": [
    "## 2. 제어문 (Control Flow)\n",
    "\n",
    "코드의 실행 흐름을 제어하는 문법입니다."
   ]
  },
  {
   "cell_type": "markdown",
   "metadata": {},
   "source": [
    "### 조건문 (if, elif, else)\n",
    "\n",
    "주어진 조건이 참(True)인지 거짓(False)인지에 따라 다른 코드를 실행합니다."
   ]
  },
  {
   "cell_type": "code",
   "execution_count": null,
   "metadata": {},
   "outputs": [],
   "source": [
    "score = 85\n",
    "\n",
    "if score >= 90:\n",
    "    print(\"A등급 입니다.\")\n",
    "elif score >= 80:\n",
    "    print(\"B등급 입니다.\")\n",
    "else:\n",
    "    print(\"C등급 입니다.\")"
   ]
  },
  {
   "cell_type": "markdown",
   "metadata": {},
   "source": [
    "### 반복문 (for, while)\n",
    "\n",
    "* **`for`**: 리스트, 튜플, 문자열 등 순회 가능한(iterable) 객체의 요소를 하나씩 꺼내어 반복합니다.\n",
    "* **`while`**: 주어진 조건이 참(True)인 동안 코드를 계속 반복합니다."
   ]
  },
  {
   "cell_type": "code",
   "execution_count": null,
   "metadata": {},
   "outputs": [],
   "source": [
    "# for 반복문\n",
    "fruits = [\"사과\", \"바나나\", \"딸기\"]\n",
    "for fruit in fruits:\n",
    "    print(fruit)\n",
    "\n",
    "print(\"-----\")\n",
    "\n",
    "# while 반복문\n",
    "i = 0\n",
    "while i < 3:\n",
    "    print(f\"while 반복: {i}\")\n",
    "    i = i + 1"
   ]
  },
  {
   "cell_type": "markdown",
   "metadata": {},
   "source": [
    "## 3. 입출력 (Input/Output)\n",
    "\n",
    "프로그램이 사용자와 상호작용하는 방법입니다."
   ]
  },
  {
   "cell_type": "markdown",
   "metadata": {},
   "source": [
    "### 입력 (`input`)\n",
    "사용자로부터 키보드 입력을 받습니다. 입력받은 모든 것은 **문자열(str)**로 처리됩니다."
   ]
  },
  {
   "cell_type": "code",
   "execution_count": null,
   "metadata": {},
   "outputs": [],
   "source": [
    "name = input(\"이름을 입력하세요: \")\n",
    "print(f\"안녕하세요, {name}님!\")\n",
    "\n",
    "# 숫자를 입력받아 계산하려면 형 변환이 필요합니다.\n",
    "age_str = input(\"나이를 입력하세요: \")\n",
    "age = int(age_str) # 문자열을 정수(int)로 변환\n",
    "print(f\"10년 뒤 당신의 나이는 {age + 10}살 입니다.\")"
   ]
  },
  {
   "cell_type": "markdown",
   "metadata": {},
   "source": [
    "### 출력 (`print`)\n",
    "\n",
    "화면에 데이터를 출력합니다. `f-string`을 사용하면 변수와 문자열을 편리하게 조합할 수 있습니다."
   ]
  },
  {
   "cell_type": "code",
   "execution_count": null,
   "metadata": {},
   "outputs": [],
   "source": [
    "person = \"철수\"\n",
    "item = \"사과\"\n",
    "count = 3\n",
    "\n",
    "# f-string을 사용한 출력\n",
    "print(f\"{person}가 {item}를 {count}개 가지고 있습니다.\")"
   ]
  },
  {
   "cell_type": "markdown",
   "metadata": {},
   "source": [
    "## 4. 클래스와 함수 (Classes and Functions)\n",
    "\n",
    "코드를 재사용하고 구조화하는 데 필수적인 요소입니다."
   ]
  },
  {
   "cell_type": "markdown",
   "metadata": {},
   "source": [
    "### 함수 (Function)\n",
    "\n",
    "특정 작업을 수행하는 코드 묶음입니다. `def` 키워드로 정의하고, 필요할 때마다 호출하여 사용합니다."
   ]
  },
  {
   "cell_type": "code",
   "execution_count": null,
   "metadata": {},
   "outputs": [],
   "source": [
    "# 함수 정의\n",
    "def add(x, y):\n",
    "    \"\"\"두 수를 더하여 결과를 반환하는 함수\"\"\"\n",
    "    return x + y\n",
    "\n",
    "# 함수 호출\n",
    "result = add(5, 3)\n",
    "print(f\"5 + 3 = {result}\")"
   ]
  },
  {
   "cell_type": "markdown",
   "metadata": {},
   "source": [
    "### 클래스 (Class)\n",
    "\n",
    "객체를 만들기 위한 \"설계도\"입니다. 클래스는 변수(속성)와 함수(메서드)를 가집니다. 클래스로부터 만들어진 실제 대상을 **객체(object)**라고 합니다."
   ]
  },
  {
   "cell_type": "code",
   "execution_count": null,
   "metadata": {},
   "outputs": [],
   "source": [
    "# 클래스 정의\n",
    "class Calculator:\n",
    "    # 생성자 메서드: 객체가 생성될 때 호출됨\n",
    "    def __init__(self):\n",
    "        self.result = 0\n",
    "\n",
    "    # 더하기 메서드\n",
    "    def add(self, num):\n",
    "        self.result += num\n",
    "        return self.result\n",
    "\n",
    "    # 빼기 메서드\n",
    "    def subtract(self, num):\n",
    "        self.result -= num\n",
    "        return self.result\n",
    "\n",
    "# 클래스로부터 객체 생성\n",
    "my_calc = Calculator()\n",
    "\n",
    "# 객체의 메서드 호출\n",
    "print(f\"초기값: {my_calc.result}\")\n",
    "print(f\"10 더하기: {my_calc.add(10)}\")\n",
    "print(f\"3 빼기: {my_calc.subtract(3)}\")"
   ]
  },
  {
   "cell_type": "markdown",
   "metadata": {},
   "source": [
    "## 5. 별 찍기 예제 ⭐\n",
    "\n",
    "반복문을 연습하기 좋은 예제입니다."
   ]
  },
  {
   "cell_type": "code",
   "execution_count": null,
   "metadata": {},
   "outputs": [],
   "source": [
    "n = 5\n",
    "\n",
    "print(\"--- 직각 삼각형 ---\")\n",
    "for i in range(1, n + 1):\n",
    "    print('*' * i)\n",
    "\n",
    "print(\"\\n--- 역직각 삼각형 ---\")\n",
    "for i in range(n, 0, -1):\n",
    "    print('*' * i)\n",
    "\n",
    "print(\"\\n--- 이등변 삼각형 (피라미드) ---\")\n",
    "for i in range(1, n + 1):\n",
    "    spaces = ' ' * (n - i)\n",
    "    stars = '*' * (2 * i - 1)\n",
    "    print(spaces + stars)\n",
    "\n",
    "print(\"\\n--- 다이아몬드 ---\")\n",
    "# 위쪽 피라미드\n",
    "for i in range(1, n + 1):\n",
    "    spaces = ' ' * (n - i)\n",
    "    stars = '*' * (2 * i - 1)\n",
    "    print(spaces + stars)\n",
    "# 아래쪽 역피라미드\n",
    "for i in range(n - 1, 0, -1):\n",
    "    spaces = ' ' * (n - i)\n",
    "    stars = '*' * (2 * i - 1)\n",
    "    print(spaces + stars)"
   ]
  },
  {
   "cell_type": "markdown",
   "metadata": {},
   "source": [
    "## 6. 파이썬 기본 시험에 나올 만한 것들\n",
    "\n",
    "다음은 파이썬 기초 과정에서 시험 문제로 자주 출제되는 개념들입니다.\n",
    "\n",
    "#### **1. 변수와 자료형**\n",
    "- **(문제 유형)** 주어진 코드의 최종 출력 결과는? `a = 10; b = a; a = 20; print(b)`\n",
    "  - **핵심 개념:** 변수 할당은 값을 복사하는 것(숫자, 문자열)과 주소를 참조하는 것(리스트, 딕셔너리)의 차이 이해.\n",
    "- **(문제 유형)** 다음 중 성격이 다른 자료형은? (보기: `list`, `tuple`, `dict`, `set`)\n",
    "  - **핵심 개념:** 각 자료형의 특징 (순서 유무, 수정 가능성(mutable/immutable) 등)을 구분할 수 있는가.\n",
    "\n",
    "#### **2. 연산자**\n",
    "- **(문제 유형)** `7 / 4`와 `7 // 4`의 차이는? `5 ** 2`의 결과는?\n",
    "  - **핵심 개념:** 나눗셈(`/`), 몫(`//`), 나머지(`%`), 거듭제곱(`**`) 연산자의 정확한 기능.\n",
    "\n",
    "#### **3. 문자열 처리**\n",
    "- **(문제 유형)** 문자열 슬라이싱: `s = \"Python\"; print(s[1:4])`의 결과는?\n",
    "  - **핵심 개념:** 인덱싱과 슬라이싱 `[start:end:step]` 사용법.\n",
    "- **(문제 유형)** 문자열 관련 함수: `split()`, `join()`, `replace()`, `upper()` 등의 사용법.\n",
    "  - **예시:** `\"a:b:c\".split(':')`의 결과는 무엇인가?\n",
    "\n",
    "#### **4. 리스트와 딕셔너리**\n",
    "- **(문제 유형)** 리스트 메서드 (`append`, `pop`, `sort`, `remove`)의 사용법.\n",
    "- **(문제 유형)** 딕셔너리에서 특정 `key`를 이용하여 `value`를 찾는 방법. `d['key']`\n",
    "- **(문제 유형)** 리스트 컴프리헨션(List Comprehension)을 사용하여 1부터 10까지의 제곱수로 리스트를 만드는 코드를 작성하시오.\n",
    "  - **예시:** `[x*x for x in range(1, 11)]`\n",
    "\n",
    "#### **5. 제어문**\n",
    "- **(문제 유형)** `for`문과 `range()` 함수를 사용하여 1부터 100까지 홀수의 합을 구하는 코드를 작성하시오.\n",
    "  - **핵심 개념:** `range(start, stop, step)` 사용법. `if`문과 `%` 연산자를 조합하여 홀수/짝수 판별.\n",
    "- **(문제 유형)** `break`와 `continue`의 차이점을 설명하고, 사용 예시를 드시오.\n",
    "  - **핵심 개념:** `break`는 반복문 완전 중단, `continue`는 현재 반복만 건너뛰고 다음 반복 시작.\n",
    "\n",
    "#### **6. 함수**\n",
    "- **(문제 유형)** 여러 개의 값을 반환하는 함수 만들기 (`return a, b`)\n",
    "- **(문제 유형)** 함수의 매개변수(parameter)와 인자(argument)의 차이를 설명하시오.\n",
    "- **(문제 유형)** 전역 변수(global variable)와 지역 변수(local variable)의 개념과 스코프(scope)에 대해 설명하시오."
   ]
  }
 ],
 "metadata": {
  "kernelspec": {
   "display_name": "Python 3",
   "language": "python",
   "name": "python3"
  },
  "language_info": {
   "codemirror_mode": {
    "name": "ipython",
    "version": 3
   },
   "file_extension": ".py",
   "mimetype": "text/x-python",
   "name": "python",
   "nbconvert_exporter": "python",
   "pygments_lexer": "ipython3",
   "version": "3.8.8"
  }
 },
 "nbformat": 4,
 "nbformat_minor": 4
}