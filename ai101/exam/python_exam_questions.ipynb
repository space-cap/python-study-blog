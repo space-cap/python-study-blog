{
 "cells": [
  {
   "cell_type": "markdown",
   "metadata": {},
   "source": [
    "# 파이썬 기초 시험 문제 20선\n",
    "\n",
    "파이썬의 핵심 개념들을 다루는 시험 문제 모음입니다."
   ]
  },
  {
   "cell_type": "markdown",
   "metadata": {},
   "source": [
    "## Q1. 변수와 참조\n",
    "\n",
    "다음 코드의 출력 결과를 쓰세요."
   ]
  },
  {
   "cell_type": "code",
   "execution_count": null,
   "metadata": {},
   "outputs": [],
   "source": [
    "x = 5\n",
    "y = x\n",
    "x = 10\n",
    "print(y)"
   ]
  },
  {
   "cell_type": "markdown",
   "metadata": {},
   "source": [
    "## Q2. 리스트와 튜플의 차이\n",
    "\n",
    "리스트와 튜플의 차이점을 설명하고, 아래 코드의 결과를 예측하세요."
   ]
  },
  {
   "cell_type": "code",
   "execution_count": null,
   "metadata": {},
   "outputs": [],
   "source": [
    "list1 = [1, 2, 3]\n",
    "tuple1 = (1, 2, 3)\n",
    "list1[0] = 10\n",
    "# tuple1[0] = 10  # 이 줄을 실행하면?\n",
    "print(list1)"
   ]
  },
  {
   "cell_type": "markdown",
   "metadata": {},
   "source": [
    "## Q3. 딕셔너리 get 메서드\n",
    "\n",
    "다음 딕셔너리 코드의 출력 결과를 쓰세요."
   ]
  },
  {
   "cell_type": "code",
   "execution_count": null,
   "metadata": {},
   "outputs": [],
   "source": [
    "d = {'a': 1, 'b': 2}\n",
    "print(d.get('c', 'Not Found'))\n",
    "print(d['c'] if 'c' in d else 'Not Found')"
   ]
  },
  {
   "cell_type": "markdown",
   "metadata": {},
   "source": [
    "## Q4. 얕은 복사와 깊은 복사\n",
    "\n",
    "얕은 복사(shallow copy)와 깊은 복사(deep copy)의 차이를 설명하고, 결과를 예측하세요."
   ]
  },
  {
   "cell_type": "code",
   "execution_count": null,
   "metadata": {},
   "outputs": [],
   "source": [
    "import copy\n",
    "a = [[1, 2], [3, 4]]\n",
    "b = a.copy()\n",
    "c = copy.deepcopy(a)\n",
    "a[0][0] = 99\n",
    "print(b)\n",
    "print(c)"
   ]
  },
  {
   "cell_type": "markdown",
   "metadata": {},
   "source": [
    "## Q5. 함수의 기본 매개변수\n",
    "\n",
    "다음 함수의 출력 결과를 쓰세요."
   ]
  },
  {
   "cell_type": "code",
   "execution_count": null,
   "metadata": {},
   "outputs": [],
   "source": [
    "def func(x, y=[]):\n",
    "    y.append(x)\n",
    "    return y\n",
    "\n",
    "print(func(1))\n",
    "print(func(2))\n",
    "print(func(3, []))"
   ]
  },
  {
   "cell_type": "markdown",
   "metadata": {},
   "source": [
    "## Q6. 전역변수와 지역변수\n",
    "\n",
    "전역변수와 지역변수의 차이를 설명하고, 결과를 예측하세요."
   ]
  },
  {
   "cell_type": "code",
   "execution_count": null,
   "metadata": {},
   "outputs": [],
   "source": [
    "x = 10\n",
    "def test():\n",
    "    x = 20\n",
    "    print(\"함수 내부:\", x)\n",
    "\n",
    "test()\n",
    "print(\"함수 외부:\", x)"
   ]
  },
  {
   "cell_type": "markdown",
   "metadata": {},
   "source": [
    "## Q7. 리스트 컴프리헨션\n",
    "\n",
    "다음 리스트 컴프리헨션의 결과를 쓰세요."
   ]
  },
  {
   "cell_type": "code",
   "execution_count": null,
   "metadata": {},
   "outputs": [],
   "source": [
    "numbers = [1, 2, 3, 4, 5]\n",
    "result = [x**2 for x in numbers if x % 2 == 0]\n",
    "print(result)"
   ]
  },
  {
   "cell_type": "markdown",
   "metadata": {},
   "source": [
    "## Q8. 예외 처리\n",
    "\n",
    "예외 처리에서 try-except-finally의 실행 순서를 설명하고, 결과를 예측하세요."
   ]
  },
  {
   "cell_type": "code",
   "execution_count": null,
   "metadata": {},
   "outputs": [],
   "source": [
    "try:\n",
    "    print(\"1\")\n",
    "    x = 1/0\n",
    "    print(\"2\")\n",
    "except ZeroDivisionError:\n",
    "    print(\"3\")\n",
    "finally:\n",
    "    print(\"4\")\n",
    "print(\"5\")"
   ]
  },
  {
   "cell_type": "markdown",
   "metadata": {},
   "source": [
    "## Q9. 람다 함수\n",
    "\n",
    "다음 람다 함수의 결과를 쓰세요."
   ]
  },
  {
   "cell_type": "code",
   "execution_count": null,
   "metadata": {},
   "outputs": [],
   "source": [
    "numbers = [1, 2, 3, 4, 5]\n",
    "result = list(filter(lambda x: x > 3, numbers))\n",
    "print(result)"
   ]
  },
  {
   "cell_type": "markdown",
   "metadata": {},
   "source": [
    "## Q10. 클래스 변수와 인스턴스 변수\n",
    "\n",
    "클래스 변수와 인스턴스 변수의 차이를 설명하고, 결과를 예측하세요."
   ]
  },
  {
   "cell_type": "code",
   "execution_count": null,
   "metadata": {},
   "outputs": [],
   "source": [
    "class Test:\n",
    "    count = 0\n",
    "    \n",
    "    def __init__(self):\n",
    "        Test.count += 1\n",
    "        self.instance_var = Test.count\n",
    "\n",
    "a = Test()\n",
    "b = Test()\n",
    "print(a.count, a.instance_var)\n",
    "print(b.count, b.instance_var)"
   ]
  },
  {
   "cell_type": "markdown",
   "metadata": {},
   "source": [
    "## Q11. 제너레이터\n",
    "\n",
    "다음 제너레이터 함수의 동작을 설명하고, 결과를 쓰세요."
   ]
  },
  {
   "cell_type": "code",
   "execution_count": null,
   "metadata": {},
   "outputs": [],
   "source": [
    "def countdown(n):\n",
    "    while n > 0:\n",
    "        yield n\n",
    "        n -= 1\n",
    "\n",
    "gen = countdown(3)\n",
    "print(next(gen))\n",
    "print(next(gen))"
   ]
  },
  {
   "cell_type": "markdown",
   "metadata": {},
   "source": [
    "## Q12. 데코레이터\n",
    "\n",
    "다음 데코레이터 코드의 출력 결과를 쓰세요."
   ]
  },
  {
   "cell_type": "code",
   "execution_count": null,
   "metadata": {},
   "outputs": [],
   "source": [
    "def my_decorator(func):\n",
    "    def wrapper():\n",
    "        print(\"Before\")\n",
    "        func()\n",
    "        print(\"After\")\n",
    "    return wrapper\n",
    "\n",
    "@my_decorator\n",
    "def say_hello():\n",
    "    print(\"Hello!\")\n",
    "\n",
    "say_hello()"
   ]
  },
  {
   "cell_type": "markdown",
   "metadata": {},
   "source": [
    "## Q13. 문자열 메서드\n",
    "\n",
    "다음 문자열 메서드의 결과를 쓰세요."
   ]
  },
  {
   "cell_type": "code",
   "execution_count": null,
   "metadata": {},
   "outputs": [],
   "source": [
    "text = \"  Hello World  \"\n",
    "print(text.strip().split())\n",
    "print(text.replace(\" \", \"_\"))"
   ]
  },
  {
   "cell_type": "markdown",
   "metadata": {},
   "source": [
    "## Q14. 집합 연산\n",
    "\n",
    "다음 집합(set) 연산의 결과를 쓰세요."
   ]
  },
  {
   "cell_type": "code",
   "execution_count": null,
   "metadata": {},
   "outputs": [],
   "source": [
    "set1 = {1, 2, 3, 4}\n",
    "set2 = {3, 4, 5, 6}\n",
    "print(set1 & set2)  # 교집합\n",
    "print(set1 | set2)  # 합집합\n",
    "print(set1 - set2)  # 차집합"
   ]
  },
  {
   "cell_type": "markdown",
   "metadata": {},
   "source": [
    "## Q15. enumerate와 zip\n",
    "\n",
    "다음 enumerate와 zip 함수의 결과를 쓰세요."
   ]
  },
  {
   "cell_type": "code",
   "execution_count": null,
   "metadata": {},
   "outputs": [],
   "source": [
    "names = ['Alice', 'Bob', 'Charlie']\n",
    "ages = [25, 30, 35]\n",
    "\n",
    "for i, name in enumerate(names):\n",
    "    print(f\"{i}: {name}\")\n",
    "\n",
    "for name, age in zip(names, ages):\n",
    "    print(f\"{name} is {age} years old\")"
   ]
  },
  {
   "cell_type": "markdown",
   "metadata": {},
   "source": [
    "## Q16. 상속\n",
    "\n",
    "다음 상속 코드의 결과를 쓰세요."
   ]
  },
  {
   "cell_type": "code",
   "execution_count": null,
   "metadata": {},
   "outputs": [],
   "source": [
    "class Animal:\n",
    "    def speak(self):\n",
    "        return \"Some sound\"\n",
    "\n",
    "class Dog(Animal):\n",
    "    def speak(self):\n",
    "        return \"Woof!\"\n",
    "\n",
    "dog = Dog()\n",
    "print(dog.speak())\n",
    "print(super(Dog, dog).speak())"
   ]
  },
  {
   "cell_type": "markdown",
   "metadata": {},
   "source": [
    "## Q17. with문\n",
    "\n",
    "다음 파일 처리 코드에서 with문을 사용하는 이유를 설명하세요."
   ]
  },
  {
   "cell_type": "code",
   "execution_count": null,
   "metadata": {},
   "outputs": [],
   "source": [
    "# 방법 1\n",
    "with open('test.txt', 'w') as f:\n",
    "    f.write('Hello')\n",
    "\n",
    "# 방법 2\n",
    "f = open('test.txt', 'w')\n",
    "f.write('Hello')\n",
    "f.close()"
   ]
  },
  {
   "cell_type": "markdown",
   "metadata": {},
   "source": [
    "## Q18. 모듈 import\n",
    "\n",
    "다음 모듈 import의 차이점을 설명하고, 사용법을 쓰세요."
   ]
  },
  {
   "cell_type": "code",
   "execution_count": null,
   "metadata": {},
   "outputs": [],
   "source": [
    "import math\n",
    "from math import sqrt\n",
    "from math import *\n",
    "import math as m\n",
    "\n",
    "# 각각의 사용법 예시\n",
    "print(math.sqrt(16))\n",
    "print(sqrt(16))\n",
    "print(sin(0))  # from math import * 사용\n",
    "print(m.sqrt(16))"
   ]
  },
  {
   "cell_type": "markdown",
   "metadata": {},
   "source": [
    "## Q19. 정규표현식\n",
    "\n",
    "다음 정규표현식 코드의 결과를 쓰세요."
   ]
  },
  {
   "cell_type": "code",
   "execution_count": null,
   "metadata": {},
   "outputs": [],
   "source": [
    "import re\n",
    "text = \"Phone: 010-1234-5678\"\n",
    "pattern = r'\\d{3}-\\d{4}-\\d{4}'\n",
    "result = re.search(pattern, text)\n",
    "print(result.group() if result else \"Not found\")"
   ]
  },
  {
   "cell_type": "markdown",
   "metadata": {},
   "source": [
    "## Q20. 논리 연산자의 단축 평가\n",
    "\n",
    "다음 논리 연산자의 단축 평가(short-circuit evaluation) 결과를 쓰세요."
   ]
  },
  {
   "cell_type": "code",
   "execution_count": null,
   "metadata": {},
   "outputs": [],
   "source": [
    "def func1():\n",
    "    print(\"func1 called\")\n",
    "    return True\n",
    "\n",
    "def func2():\n",
    "    print(\"func2 called\")\n",
    "    return False\n",
    "\n",
    "result1 = func1() or func2()\n",
    "print(\"Result1:\", result1)\n",
    "\n",
    "result2 = func2() and func1()\n",
    "print(\"Result2:\", result2)"
   ]
  }
 ],
 "metadata": {
  "kernelspec": {
   "display_name": "Python 3",
   "language": "python",
   "name": "python3"
  },
  "language_info": {
   "codemirror_mode": {
    "name": "ipython",
    "version": 3
   },
   "file_extension": ".py",
   "name": "python",
   "nbconvert_exporter": "python",
   "pygments_lexer": "ipython3",
   "version": "3.8.5"
  }
 },
 "nbformat": 4,
 "nbformat_minor": 4
}
